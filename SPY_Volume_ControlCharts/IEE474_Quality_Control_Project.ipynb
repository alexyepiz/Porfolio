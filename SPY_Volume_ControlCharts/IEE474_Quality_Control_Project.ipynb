{
  "nbformat": 4,
  "nbformat_minor": 0,
  "metadata": {
    "colab": {
      "provenance": []
    },
    "kernelspec": {
      "name": "python3",
      "display_name": "Python 3"
    },
    "language_info": {
      "name": "python"
    }
  },
  "cells": [
    {
      "cell_type": "markdown",
      "source": [
        "# **Volatility of the SPY**"
      ],
      "metadata": {
        "id": "zFo7nFpLCqF1"
      }
    },
    {
      "cell_type": "markdown",
      "source": [
        "Gathering daily volatility data to import into JMP"
      ],
      "metadata": {
        "id": "ZdFFM3DCDyeS"
      }
    },
    {
      "cell_type": "code",
      "execution_count": 3,
      "metadata": {
        "colab": {
          "base_uri": "https://localhost:8080/"
        },
        "id": "PiqWwuo6Cn6b",
        "outputId": "cd1965a2-e456-463a-a832-23e11d382891"
      },
      "outputs": [
        {
          "output_type": "stream",
          "name": "stderr",
          "text": [
            "/tmp/ipython-input-2244065011.py:9: FutureWarning: YF.download() has changed argument auto_adjust default to True\n",
            "  spy = yf.download(\"SPY\", start=start_date, end=end_date)\n",
            "\r[*********************100%***********************]  1 of 1 completed"
          ]
        },
        {
          "output_type": "stream",
          "name": "stdout",
          "text": [
            "\n",
            "Done\n"
          ]
        },
        {
          "output_type": "stream",
          "name": "stderr",
          "text": [
            "\n"
          ]
        }
      ],
      "source": [
        "import yfinance as yf\n",
        "import pandas as pd\n",
        "\n",
        "# Define the date range\n",
        "start_date = \"2024-09-29\"\n",
        "end_date = \"2025-04-12\"\n",
        "\n",
        "# Download SPY data\n",
        "spy = yf.download(\"SPY\", start=start_date, end=end_date)\n",
        "\n",
        "# Calculate daily volatility (High - Low)\n",
        "spy['Volume'] = spy['Volume']\n",
        "\n",
        "# Keep only the date and volatility columns\n",
        "volatility_data = spy[['Volume']].copy()\n",
        "volatility_data.reset_index(inplace=True)  # Make Date a column\n",
        "\n",
        "# Save to CSV\n",
        "volatility_data.to_csv(\"SPY_Volume.csv\", index=False)\n",
        "\n",
        "print(\"\\nDone\")\n"
      ]
    }
  ]
}
